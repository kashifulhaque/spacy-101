{
 "cells": [
  {
   "cell_type": "markdown",
   "metadata": {},
   "source": [
    "## **Word vectors and Semantic similarity**\n",
    "\n",
    "**Comparing semantic similarity**\n",
    "- `spaCy` can compare 2 objects and predict similarity\n",
    "  - `Doc.similarity()`\n",
    "  - `Span.similarity()`\n",
    "  - `Token.similarity()`\n",
    "- Returns a similarity score between `0` and `1`\n",
    "- It needs a pipeline which has word vectors included:\n",
    "  - ✅ `en_core_web_md` (Medium)\n",
    "  - ✅ `en_core_web_lg` (Large)\n",
    "  - ❌ `en_core_web_sm` (Small)"
   ]
  },
  {
   "cell_type": "code",
   "execution_count": 1,
   "metadata": {},
   "outputs": [],
   "source": [
    "import spacy\n",
    "nlp = spacy.load(\"en_core_web_lg\")"
   ]
  },
  {
   "cell_type": "code",
   "execution_count": 2,
   "metadata": {},
   "outputs": [],
   "source": [
    "doc1 = nlp(\"I like fast food\")\n",
    "doc2 = nlp(\"I like pizza\")"
   ]
  },
  {
   "cell_type": "markdown",
   "metadata": {},
   "source": [
    "**Check similarity between 2 documents**"
   ]
  },
  {
   "cell_type": "code",
   "execution_count": 6,
   "metadata": {},
   "outputs": [
    {
     "name": "stdout",
     "output_type": "stream",
     "text": [
      "Doc similarity: 0.870\n"
     ]
    }
   ],
   "source": [
    "# Compare 2 documents\n",
    "print(f\"Doc similarity: {doc1.similarity(doc2):.3f}\")"
   ]
  },
  {
   "cell_type": "markdown",
   "metadata": {},
   "source": [
    "**Check similarity between 2 tokens**"
   ]
  },
  {
   "cell_type": "code",
   "execution_count": 5,
   "metadata": {},
   "outputs": [],
   "source": [
    "# Compare 2 tokens\n",
    "doc = nlp(\"I like pizza and pasta\")\n",
    "token1 = doc[2]\n",
    "token2 = doc[4]"
   ]
  },
  {
   "cell_type": "code",
   "execution_count": 7,
   "metadata": {},
   "outputs": [
    {
     "name": "stdout",
     "output_type": "stream",
     "text": [
      "Token similarity: 0.685\n"
     ]
    }
   ],
   "source": [
    "print(f\"Token similarity: {token1.similarity(token2):.3f}\")"
   ]
  },
  {
   "cell_type": "markdown",
   "metadata": {},
   "source": [
    "**Check similarity between a document and a token**"
   ]
  },
  {
   "cell_type": "code",
   "execution_count": 8,
   "metadata": {},
   "outputs": [],
   "source": [
    "# Compare a token with a document\n",
    "doc = nlp(\"I like pizza\")\n",
    "token = nlp(\"soap\")[0]"
   ]
  },
  {
   "cell_type": "code",
   "execution_count": 9,
   "metadata": {},
   "outputs": [
    {
     "name": "stdout",
     "output_type": "stream",
     "text": [
      "Doc Token similarity: 0.182\n"
     ]
    }
   ],
   "source": [
    "print(f\"Doc Token similarity: {doc.similarity(token):.3f}\")"
   ]
  },
  {
   "cell_type": "markdown",
   "metadata": {},
   "source": [
    "**Compare a span with a document**"
   ]
  },
  {
   "cell_type": "code",
   "execution_count": 10,
   "metadata": {},
   "outputs": [],
   "source": [
    "# Compare a span with a document\n",
    "span = nlp(\"I like pizza, extra salami\")[2:]\n",
    "doc = nlp(\"McDonalds sells burgers\")"
   ]
  },
  {
   "cell_type": "code",
   "execution_count": 11,
   "metadata": {},
   "outputs": [
    {
     "name": "stdout",
     "output_type": "stream",
     "text": [
      "Span Document similarity: 0.506\n"
     ]
    }
   ],
   "source": [
    "print(f\"Span Document similarity: {span.similarity(doc):.3f}\")"
   ]
  },
  {
   "cell_type": "markdown",
   "metadata": {},
   "source": [
    "**How does `spaCy` predict similarity?**\n",
    "- Similarity is determined using **word vectors**\n",
    "- Multi-dimensional meaning representations of words\n",
    "- Generated using an algorith like `Word2Vec` and lots of text\n",
    "- Default: cosine similarity, but can be adjusted\n",
    "- `Doc` and `Span` vectors default to average of token vectors\n",
    "- Short phrases are better than long documents with many irrelevant words"
   ]
  },
  {
   "cell_type": "markdown",
   "metadata": {},
   "source": [
    "### **Word Vectors with `spaCy`**"
   ]
  },
  {
   "cell_type": "code",
   "execution_count": 12,
   "metadata": {},
   "outputs": [
    {
     "data": {
      "text/plain": [
       "array([ 0.20778 , -2.4151  ,  0.36605 ,  2.0139  , -0.23752 , -3.1952  ,\n",
       "       -0.2952  ,  1.2272  , -3.4129  , -0.54969 ,  0.32634 , -1.0813  ,\n",
       "        0.55626 ,  1.5195  ,  0.97797 , -3.1816  , -0.37207 , -0.86093 ,\n",
       "        2.1509  , -4.0845  ,  0.035405,  3.5702  , -0.79413 , -1.7025  ,\n",
       "       -1.6371  , -3.198   , -1.9387  ,  0.91166 ,  0.85409 ,  1.8039  ,\n",
       "       -1.103   , -2.5274  ,  1.6365  , -0.82082 ,  1.0278  , -1.705   ,\n",
       "        1.5511  , -0.95633 , -1.4702  , -1.865   , -0.19324 , -0.49123 ,\n",
       "        2.2361  ,  2.2119  ,  3.6654  ,  1.7943  , -0.20601 ,  1.5483  ,\n",
       "       -1.3964  , -0.50819 ,  2.1288  , -2.332   ,  1.3539  , -2.1917  ,\n",
       "        1.8923  ,  0.28472 ,  0.54285 ,  1.2309  ,  0.26027 ,  1.9542  ,\n",
       "        1.1739  , -0.40348 ,  3.2028  ,  0.75381 , -2.7179  , -1.3587  ,\n",
       "       -1.1965  , -2.0923  ,  2.2855  , -0.3058  , -0.63174 ,  0.70083 ,\n",
       "        0.16899 ,  1.2325  ,  0.97006 , -0.23356 , -2.094   , -1.737   ,\n",
       "        3.6075  , -1.511   , -0.9135  ,  0.53878 ,  0.49268 ,  0.44751 ,\n",
       "        0.6315  ,  1.4963  ,  4.1725  ,  2.1961  , -1.2409  ,  0.4214  ,\n",
       "        2.9678  ,  1.841   ,  3.0133  , -4.4652  ,  0.96521 , -0.29787 ,\n",
       "        4.3386  , -1.2527  , -1.7734  , -3.5637  , -0.20035 , -3.3013  ,\n",
       "        0.99951 , -0.92888 , -0.94594 ,  1.5124  , -3.9385  ,  2.7935  ,\n",
       "       -3.1042  ,  3.3382  ,  0.54513 , -0.37663 ,  2.5151  ,  0.51468 ,\n",
       "       -0.88907 ,  1.011   ,  3.4705  , -3.6037  ,  1.3702  ,  2.3468  ,\n",
       "        1.6674  ,  1.3904  , -2.8112  ,  2.237   , -1.0344  , -0.57164 ,\n",
       "        1.0641  , -1.6919  ,  1.958   , -0.78305 ,  0.14741 ,  0.51083 ,\n",
       "        1.8278  , -0.69638 ,  0.90548 ,  0.62282 , -1.8315  , -2.8587  ,\n",
       "        0.48424 , -2.0527  , -0.53808 , -2.3472  ,  1.0354  , -1.8257  ,\n",
       "       -0.3892  , -0.24943 ,  0.8651  , -1.5195  ,  1.2166  , -2.698   ,\n",
       "       -0.96698 ,  2.2175  , -0.16089 , -0.49677 , -0.19646 ,  1.3284  ,\n",
       "        4.0824  ,  1.3919  ,  0.80669 , -1.0316  , -0.28056 , -1.8632  ,\n",
       "        0.47716 , -0.53628 ,  1.3853  , -2.1755  , -0.2354  ,  2.4933  ,\n",
       "       -0.87255 ,  1.4493  , -0.10778 , -0.44159 ,  1.3462  ,  4.4211  ,\n",
       "       -1.8385  ,  0.3985  ,  0.47637 , -0.60074 ,  3.3583  , -0.15006 ,\n",
       "       -0.40495 ,  2.7225  , -1.6297  ,  0.86797 , -4.1445  , -2.7793  ,\n",
       "        1.1535  , -0.011691,  0.9792  , -1.0141  ,  0.80134 ,  0.43642 ,\n",
       "        1.4337  ,  2.8927  ,  0.82871 , -1.1827  , -1.3838  ,  2.3903  ,\n",
       "       -0.89323 ,  1.1461  , -1.7435  ,  0.8654  , -0.27075 , -0.78698 ,\n",
       "        1.5631  , -0.5923  ,  0.098082, -0.26682 ,  1.6282  , -0.77495 ,\n",
       "        3.2552  ,  1.7964  , -1.4314  ,  1.2336  ,  2.3102  , -1.6328  ,\n",
       "        2.8366  , -0.71384 ,  0.43967 ,  1.5627  ,  3.079   , -0.922   ,\n",
       "       -0.43981 , -0.7659  ,  1.9362  , -2.2479  ,  1.041   ,  0.63206 ,\n",
       "        1.5855  ,  3.4097  , -2.9204  , -1.4751  , -0.59534 , -1.688   ,\n",
       "       -4.1362  ,  2.745   , -2.8515  ,  3.6509  , -0.66993 , -2.8794  ,\n",
       "        2.0733  ,  1.1779  , -2.0307  ,  2.595   , -0.12246 ,  1.5844  ,\n",
       "        1.1855  ,  0.022385, -2.2916  , -2.2684  , -2.7537  ,  0.34981 ,\n",
       "       -4.6243  , -0.96521 , -1.1435  , -2.8894  , -0.12619 ,  2.9577  ,\n",
       "       -1.7227  ,  0.24757 ,  1.2149  ,  3.5349  , -0.95802 ,  0.080346,\n",
       "       -1.6553  , -0.6734  ,  2.2918  , -1.8229  , -1.1336  ,  1.8884  ,\n",
       "        2.4789  , -0.66061 ,  2.0529  , -0.76687 ,  0.32362 , -2.2579  ,\n",
       "        0.91278 ,  0.36231 ,  0.61562 , -0.15396 , -0.42917 , -0.89848 ,\n",
       "        0.17298 , -0.76978 , -2.0222  , -1.7127  , -1.5632  ,  0.56631 ,\n",
       "       -1.354   ,  2.6261  ,  1.9156  , -1.5651  ,  1.8315  , -1.4257  ,\n",
       "       -1.6861  , -0.51953 ,  1.7635  , -0.50722 ,  1.388   , -1.1012  ],\n",
       "      dtype=float32)"
      ]
     },
     "execution_count": 12,
     "metadata": {},
     "output_type": "execute_result"
    }
   ],
   "source": [
    "doc = nlp(\"I have a banana\")\n",
    "doc[3].vector"
   ]
  }
 ],
 "metadata": {
  "kernelspec": {
   "display_name": ".venv",
   "language": "python",
   "name": "python3"
  },
  "language_info": {
   "codemirror_mode": {
    "name": "ipython",
    "version": 3
   },
   "file_extension": ".py",
   "mimetype": "text/x-python",
   "name": "python",
   "nbconvert_exporter": "python",
   "pygments_lexer": "ipython3",
   "version": "3.10.13"
  },
  "orig_nbformat": 4
 },
 "nbformat": 4,
 "nbformat_minor": 2
}
