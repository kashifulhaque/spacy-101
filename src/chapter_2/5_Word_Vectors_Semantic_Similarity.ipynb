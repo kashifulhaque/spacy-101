{
 "cells": [
  {
   "cell_type": "markdown",
   "metadata": {},
   "source": [
    "### **Word vectors and Semantic similarity**\n",
    "\n",
    "**Comparing semantic similarity**\n",
    "- `spaCy` can compare 2 objects and predict similarity\n",
    "  - `Doc.similarity()`\n",
    "  - `Span.similarity()`\n",
    "  - `Token.similarity()`\n",
    "- Returns a similarity score between `0` and `1`\n",
    "- It needs a pipeline which has word vectors included:\n",
    "  - ✅ `en_core_web_md` (Medium)\n",
    "  - ✅ `en_core_web_lg` (Large)\n",
    "  - ❌ `en_core_web_sm` (Small)"
   ]
  },
  {
   "cell_type": "code",
   "execution_count": 1,
   "metadata": {},
   "outputs": [],
   "source": [
    "import spacy\n",
    "nlp = spacy.load(\"en_core_web_lg\")"
   ]
  },
  {
   "cell_type": "code",
   "execution_count": null,
   "metadata": {},
   "outputs": [],
   "source": []
  }
 ],
 "metadata": {
  "kernelspec": {
   "display_name": ".venv",
   "language": "python",
   "name": "python3"
  },
  "language_info": {
   "codemirror_mode": {
    "name": "ipython",
    "version": 3
   },
   "file_extension": ".py",
   "mimetype": "text/x-python",
   "name": "python",
   "nbconvert_exporter": "python",
   "pygments_lexer": "ipython3",
   "version": "3.10.13"
  },
  "orig_nbformat": 4
 },
 "nbformat": 4,
 "nbformat_minor": 2
}
