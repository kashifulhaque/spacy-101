{
 "cells": [
  {
   "cell_type": "markdown",
   "metadata": {},
   "source": [
    "### **Word vectors and Semantic similarity**\n",
    "\n",
    "**Comparing semantic similarity**\n",
    "- `spaCy` can compare 2 objects and predict similarity\n",
    "  - `Doc.similarity()`\n",
    "  - `Span.similarity()`\n",
    "  - `Token.similarity()`\n",
    "- Returns a similarity score between `0` and `1`\n",
    "- It needs a pipeline which has word vectors included:\n",
    "  - ✅ `en_core_web_md` (Medium)\n",
    "  - ✅ `en_core_web_lg` (Large)\n",
    "  - ❌ `en_core_web_sm` (Small)"
   ]
  },
  {
   "cell_type": "code",
   "execution_count": null,
   "metadata": {},
   "outputs": [],
   "source": []
  }
 ],
 "metadata": {
  "kernelspec": {
   "display_name": ".venv",
   "language": "python",
   "name": "python3"
  },
  "language_info": {
   "name": "python",
   "version": "3.10.13"
  },
  "orig_nbformat": 4
 },
 "nbformat": 4,
 "nbformat_minor": 2
}
